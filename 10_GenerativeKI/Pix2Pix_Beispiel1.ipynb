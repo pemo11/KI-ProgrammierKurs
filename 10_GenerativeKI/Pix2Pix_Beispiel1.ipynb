{
 "cells": [
  {
   "cell_type": "markdown",
   "id": "65c1d2ce",
   "metadata": {},
   "source": [
    "filsoe: Pix2Pix_Beispiel1.py"
   ]
  },
  {
   "cell_type": "code",
   "execution_count": null,
   "id": "47f8257b",
   "metadata": {},
   "outputs": [],
   "source": [
    "from PIL import Image\n",
    "import requests\n",
    "import torch\n",
    "from diffusers import StableDiffusionInstructPix2PixPipeline, EulerAncestralDiscreteScheduler\n",
    "from os import path\n",
    "model_id = \"timbrooks/instruct-pix2pix\"\n",
    "pipe = StableDiffusionInstructPix2PixPipeline.from_pretrained(model_id, torch_dtype=torch.float16, safety_checker=None)\n",
    "# pipe.to(\"mps\")\n",
    "pipe.scheduler = EulerAncestralDiscreteScheduler.from_config(pipe.scheduler.config)"
   ]
  },
  {
   "cell_type": "code",
   "execution_count": null,
   "id": "b01a3088",
   "metadata": {},
   "outputs": [],
   "source": [
    "imgPath = path.join(path.dirname(__file__), \"images\", \"Emden04.jpg\")\n",
    "image = Image.open(imgPath)\n",
    "# Resize, can try varying sizes also\n",
    "image = image.resize((768, 768)) \n",
    "prompt = \"A fireworks to the sky, in the style of a painting by Claude Monet, with vibrant colors and soft brush strokes.\"\n",
    "images = pipe(prompt, image=image, num_inference_steps=10, image_guidance_scale=1).images\n",
    "images[0].show()\n",
    "pngPath = path.join(path.dirname(__file__), \"images\", \"Emden04_MonetStyle.png\")\n",
    "images[0].save(pngPath, \"PNG\")"
   ]
  }
 ],
 "metadata": {
  "jupytext": {
   "cell_metadata_filter": "-all",
   "encoding": "# -*- coding: utf-8 -*-",
   "executable": " usr/bin/python3",
   "main_language": "python",
   "notebook_metadata_filter": "-all"
  }
 },
 "nbformat": 4,
 "nbformat_minor": 5
}
